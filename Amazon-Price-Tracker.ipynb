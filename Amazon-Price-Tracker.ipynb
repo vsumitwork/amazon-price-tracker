{
 "cells": [
  {
   "cell_type": "code",
   "execution_count": 1,
   "id": "22b8c48e-8b9f-4616-a9c0-ac8779431101",
   "metadata": {},
   "outputs": [],
   "source": [
    "# import libraries \n",
    "\n",
    "from bs4 import BeautifulSoup\n",
    "import requests\n",
    "import time\n",
    "import datetime\n",
    "\n",
    "import smtplib"
   ]
  },
  {
   "cell_type": "code",
   "execution_count": 2,
   "id": "9ff7faec-452b-4ee6-84ce-81b9f9a040d4",
   "metadata": {},
   "outputs": [
    {
     "name": "stdout",
     "output_type": "stream",
     "text": [
      "\n",
      "                  PeaceOut Anime Printed T-Shirt, Goku Design, Black, Men's\n",
      "                 \n",
      "\n",
      "                    488\n",
      "                   \n"
     ]
    }
   ],
   "source": [
    "# Connect to Website and pull in data\n",
    "\n",
    "url = 'https://www.amazon.in/PeaceOut-Printed-T-Shirt-Design-Medium/dp/B0D1KW8WLW/ref=sr_1_5?crid=1OWUX1HKDPEH4&dib=eyJ2IjoiMSJ9.4qTBwfQsZgmIvGw2JqNSInn8mM_uLZLLPy5fV2NLkV-bAEOMBtrVqbeDBf7woBWGv7Tl-Zt6z9mkvgzRnWb59yd65-Y33e9z4hQlgpP-Uk9oaqPd4Ik35Gu4MZsFmEyAcqiEbx3u7tPPtZi5SngS10Y60TwVkNP5KMELrg2g-dnv_4gKeLj-NcBXY3gwGS5vhur8jkRueU8QBDElBAQNTFRZxBuk-F92LkM641jBK3qaGTo0yuhFKvwBI0rcs-VvwXRj5lqbBBJ1v90ryNJbBcNzUUhkI3sLwtsftubZ0E8.Bshmn-6AgcB8iw-BaumRY2ySjeP8m_bdgn8ZOlG0GhA&dib_tag=se&keywords=anime+tshirt+for+men&qid=1736670569&sprefix=anime+t%2Caps%2C259&sr=8-5'\n",
    "\n",
    "headers = {\"User-Agent\": \"Mozilla/5.0 (Windows NT 10.0; Win64; x64) AppleWebKit/537.36 (KHTML, like Gecko) Chrome/129.0.0.0 Safari/537.36\"}\n",
    "\n",
    "page = requests.get(url, headers = headers)\n",
    "\n",
    "soup1 = BeautifulSoup(page.content, 'html')\n",
    "\n",
    "soup2 = BeautifulSoup(soup1.prettify(), 'html')\n",
    "\n",
    "title = soup2.find(id = 'productTitle').get_text()\n",
    "\n",
    "price = soup2.find(class_ = 'a-price-whole').get_text()\n",
    "\n",
    "print(title)\n",
    "print(price)"
   ]
  },
  {
   "cell_type": "code",
   "execution_count": 3,
   "id": "20ac6074-66ba-4e1d-a31b-18e014520806",
   "metadata": {},
   "outputs": [
    {
     "name": "stdout",
     "output_type": "stream",
     "text": [
      "PeaceOut Anime Printed T-Shirt, Goku Design, Black, Men's\n",
      "488\n"
     ]
    }
   ],
   "source": [
    "# Clean up the data a little bit\n",
    "\n",
    "price = price.strip()\n",
    "title = title.strip()\n",
    "\n",
    "print(title)\n",
    "print(price)"
   ]
  },
  {
   "cell_type": "code",
   "execution_count": 4,
   "id": "47ac5485-c4d2-47d8-8307-2b07be204007",
   "metadata": {},
   "outputs": [
    {
     "name": "stdout",
     "output_type": "stream",
     "text": [
      "2025-01-12\n"
     ]
    }
   ],
   "source": [
    "# Create a Timestamp for your output to track when data was collected\n",
    "\n",
    "today = datetime.date.today()\n",
    "\n",
    "print(today)"
   ]
  },
  {
   "cell_type": "code",
   "execution_count": 5,
   "id": "a2b456db-f0c5-4951-ab82-020db2fbdf06",
   "metadata": {},
   "outputs": [],
   "source": [
    "import csv\n",
    "\n",
    "header = ['Product_Name','Product_Price','Date']\n",
    "data = [title,price,str(today)]\n",
    "\n",
    "with open('AmazonWebScraperDataset.csv', 'w', newline='', encoding='UTF8') as f:\n",
    "    writer = csv.writer(f)\n",
    "    writer.writerow(header)\n",
    "    writer.writerow(data)\n",
    " "
   ]
  },
  {
   "cell_type": "code",
   "execution_count": 6,
   "id": "2c5b26bc-8329-4929-b5c0-ccc364d2c4dc",
   "metadata": {},
   "outputs": [
    {
     "data": {
      "text/html": [
       "<div>\n",
       "<style scoped>\n",
       "    .dataframe tbody tr th:only-of-type {\n",
       "        vertical-align: middle;\n",
       "    }\n",
       "\n",
       "    .dataframe tbody tr th {\n",
       "        vertical-align: top;\n",
       "    }\n",
       "\n",
       "    .dataframe thead th {\n",
       "        text-align: right;\n",
       "    }\n",
       "</style>\n",
       "<table border=\"1\" class=\"dataframe\">\n",
       "  <thead>\n",
       "    <tr style=\"text-align: right;\">\n",
       "      <th></th>\n",
       "      <th>Product_Name</th>\n",
       "      <th>Product_Price</th>\n",
       "      <th>Date</th>\n",
       "    </tr>\n",
       "  </thead>\n",
       "  <tbody>\n",
       "    <tr>\n",
       "      <th>0</th>\n",
       "      <td>PeaceOut Anime Printed T-Shirt, Goku Design, B...</td>\n",
       "      <td>488</td>\n",
       "      <td>2025-01-12</td>\n",
       "    </tr>\n",
       "  </tbody>\n",
       "</table>\n",
       "</div>"
      ],
      "text/plain": [
       "                                        Product_Name  Product_Price  \\\n",
       "0  PeaceOut Anime Printed T-Shirt, Goku Design, B...            488   \n",
       "\n",
       "         Date  \n",
       "0  2025-01-12  "
      ]
     },
     "execution_count": 6,
     "metadata": {},
     "output_type": "execute_result"
    }
   ],
   "source": [
    "# Reading data\n",
    "import pandas as pd\n",
    "\n",
    "df = pd.read_csv('AmazonWebScraperDataset.csv')\n",
    "\n",
    "df"
   ]
  },
  {
   "cell_type": "code",
   "execution_count": 7,
   "id": "4fcc9a99-8b79-4c11-829f-fe3f9a6ca63d",
   "metadata": {},
   "outputs": [],
   "source": [
    "#Now we are appending data to the csv\n",
    "\n",
    "with open('AmazonWebScraperDataset.csv', 'a+', newline='', encoding='UTF8') as f:\n",
    "    writer = csv.writer(f)\n",
    "    writer.writerow(data)"
   ]
  },
  {
   "cell_type": "code",
   "execution_count": 8,
   "id": "d621a916-12d2-447f-8f9f-b67ff8b25ff0",
   "metadata": {},
   "outputs": [],
   "source": [
    "#Combine all of the above code into one function\n",
    "\n",
    "\n",
    "def check_price():\n",
    "    url = 'https://www.amazon.in/PeaceOut-Printed-T-Shirt-Design-Medium/dp/B0D1KW8WLW/ref=sr_1_5?crid=1OWUX1HKDPEH4&dib=eyJ2IjoiMSJ9.4qTBwfQsZgmIvGw2JqNSInn8mM_uLZLLPy5fV2NLkV-bAEOMBtrVqbeDBf7woBWGv7Tl-Zt6z9mkvgzRnWb59yd65-Y33e9z4hQlgpP-Uk9oaqPd4Ik35Gu4MZsFmEyAcqiEbx3u7tPPtZi5SngS10Y60TwVkNP5KMELrg2g-dnv_4gKeLj-NcBXY3gwGS5vhur8jkRueU8QBDElBAQNTFRZxBuk-F92LkM641jBK3qaGTo0yuhFKvwBI0rcs-VvwXRj5lqbBBJ1v90ryNJbBcNzUUhkI3sLwtsftubZ0E8.Bshmn-6AgcB8iw-BaumRY2ySjeP8m_bdgn8ZOlG0GhA&dib_tag=se&keywords=anime+tshirt+for+men&qid=1736670569&sprefix=anime+t%2Caps%2C259&sr=8-5'\n",
    "\n",
    "    headers = {\"User-Agent\": \"Mozilla/5.0 (Windows NT 10.0; Win64; x64) AppleWebKit/537.36 (KHTML, like Gecko) Chrome/129.0.0.0 Safari/537.36\"}\n",
    "\n",
    "    page = requests.get(url, headers = headers)\n",
    "\n",
    "    soup1 = BeautifulSoup(page.content, 'html')\n",
    "\n",
    "    soup2 = BeautifulSoup(soup1.prettify(), 'html')\n",
    "\n",
    "    title = soup2.find(id = 'productTitle').get_text()\n",
    "\n",
    "    price = soup2.find(class_ = 'a-price-whole').get_text()\n",
    "    \n",
    "    price = price.strip()\n",
    "    title = title.strip()\n",
    "\n",
    "    import datetime\n",
    "\n",
    "    today = datetime.date.today()\n",
    "    \n",
    "    import csv \n",
    "\n",
    "    header = ['Title', 'Price', 'Date']\n",
    "    data = [title, price, today]\n",
    "\n",
    "    with open('AmazonWebScraperDataset.csv', 'a+', newline='', encoding='UTF8') as f:\n",
    "        writer = csv.writer(f)\n",
    "        writer.writerow(data)\n",
    " \n",
    "    "
   ]
  },
  {
   "cell_type": "code",
   "execution_count": null,
   "id": "34944918-20c1-48d1-bca4-a42018d6c18b",
   "metadata": {},
   "outputs": [],
   "source": [
    "# Runs check_price after a set time and inputs data into your CSV\n",
    "\n",
    "while(True):\n",
    "    check_price()\n",
    "    time.sleep(86400)"
   ]
  },
  {
   "cell_type": "code",
   "execution_count": 10,
   "id": "d8ea2110-2e15-402a-b82a-6f46a4e983da",
   "metadata": {},
   "outputs": [
    {
     "data": {
      "text/html": [
       "<div>\n",
       "<style scoped>\n",
       "    .dataframe tbody tr th:only-of-type {\n",
       "        vertical-align: middle;\n",
       "    }\n",
       "\n",
       "    .dataframe tbody tr th {\n",
       "        vertical-align: top;\n",
       "    }\n",
       "\n",
       "    .dataframe thead th {\n",
       "        text-align: right;\n",
       "    }\n",
       "</style>\n",
       "<table border=\"1\" class=\"dataframe\">\n",
       "  <thead>\n",
       "    <tr style=\"text-align: right;\">\n",
       "      <th></th>\n",
       "      <th>Product_Name</th>\n",
       "      <th>Product_Price</th>\n",
       "      <th>Date</th>\n",
       "    </tr>\n",
       "  </thead>\n",
       "  <tbody>\n",
       "    <tr>\n",
       "      <th>0</th>\n",
       "      <td>PeaceOut Anime Printed T-Shirt, Goku Design, B...</td>\n",
       "      <td>488</td>\n",
       "      <td>2025-01-12</td>\n",
       "    </tr>\n",
       "    <tr>\n",
       "      <th>1</th>\n",
       "      <td>PeaceOut Anime Printed T-Shirt, Goku Design, B...</td>\n",
       "      <td>488</td>\n",
       "      <td>2025-01-12</td>\n",
       "    </tr>\n",
       "    <tr>\n",
       "      <th>2</th>\n",
       "      <td>PeaceOut Anime Printed T-Shirt, Goku Design, B...</td>\n",
       "      <td>488</td>\n",
       "      <td>2025-01-12</td>\n",
       "    </tr>\n",
       "    <tr>\n",
       "      <th>3</th>\n",
       "      <td>PeaceOut Anime Printed T-Shirt, Goku Design, B...</td>\n",
       "      <td>488</td>\n",
       "      <td>2025-01-12</td>\n",
       "    </tr>\n",
       "    <tr>\n",
       "      <th>4</th>\n",
       "      <td>PeaceOut Anime Printed T-Shirt, Goku Design, B...</td>\n",
       "      <td>488</td>\n",
       "      <td>2025-01-12</td>\n",
       "    </tr>\n",
       "    <tr>\n",
       "      <th>5</th>\n",
       "      <td>PeaceOut Anime Printed T-Shirt, Goku Design, B...</td>\n",
       "      <td>488</td>\n",
       "      <td>2025-01-12</td>\n",
       "    </tr>\n",
       "    <tr>\n",
       "      <th>6</th>\n",
       "      <td>PeaceOut Anime Printed T-Shirt, Goku Design, B...</td>\n",
       "      <td>488</td>\n",
       "      <td>2025-01-12</td>\n",
       "    </tr>\n",
       "  </tbody>\n",
       "</table>\n",
       "</div>"
      ],
      "text/plain": [
       "                                        Product_Name  Product_Price  \\\n",
       "0  PeaceOut Anime Printed T-Shirt, Goku Design, B...            488   \n",
       "1  PeaceOut Anime Printed T-Shirt, Goku Design, B...            488   \n",
       "2  PeaceOut Anime Printed T-Shirt, Goku Design, B...            488   \n",
       "3  PeaceOut Anime Printed T-Shirt, Goku Design, B...            488   \n",
       "4  PeaceOut Anime Printed T-Shirt, Goku Design, B...            488   \n",
       "5  PeaceOut Anime Printed T-Shirt, Goku Design, B...            488   \n",
       "6  PeaceOut Anime Printed T-Shirt, Goku Design, B...            488   \n",
       "\n",
       "         Date  \n",
       "0  2025-01-12  \n",
       "1  2025-01-12  \n",
       "2  2025-01-12  \n",
       "3  2025-01-12  \n",
       "4  2025-01-12  \n",
       "5  2025-01-12  \n",
       "6  2025-01-12  "
      ]
     },
     "execution_count": 10,
     "metadata": {},
     "output_type": "execute_result"
    }
   ],
   "source": [
    "df = pd.read_csv('AmazonWebScraperDataset.csv')\n",
    "\n",
    "df"
   ]
  }
 ],
 "metadata": {
  "kernelspec": {
   "display_name": "Python [conda env:base] *",
   "language": "python",
   "name": "conda-base-py"
  },
  "language_info": {
   "codemirror_mode": {
    "name": "ipython",
    "version": 3
   },
   "file_extension": ".py",
   "mimetype": "text/x-python",
   "name": "python",
   "nbconvert_exporter": "python",
   "pygments_lexer": "ipython3",
   "version": "3.12.7"
  }
 },
 "nbformat": 4,
 "nbformat_minor": 5
}
